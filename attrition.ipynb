{
  "cells": [
    {
      "cell_type": "markdown",
      "metadata": {
        "id": "alIIEHibGc3M"
      },
      "source": [
        "## Part 1: Preprocessing"
      ]
    },
    {
      "cell_type": "code",
      "execution_count": 1,
      "metadata": {
        "colab": {
          "base_uri": "https://localhost:8080/",
          "height": 325
        },
        "id": "6eDUJ4NtGc3P",
        "outputId": "2480098c-135c-4cbf-9552-018494ee8ff5"
      },
      "outputs": [
        {
          "name": "stdout",
          "output_type": "stream",
          "text": [
            "WARNING:tensorflow:From c:\\Users\\skilu\\anaconda3\\envs\\dev\\Lib\\site-packages\\keras\\src\\losses.py:2976: The name tf.losses.sparse_softmax_cross_entropy is deprecated. Please use tf.compat.v1.losses.sparse_softmax_cross_entropy instead.\n",
            "\n"
          ]
        },
        {
          "data": {
            "text/html": [
              "<div>\n",
              "<style scoped>\n",
              "    .dataframe tbody tr th:only-of-type {\n",
              "        vertical-align: middle;\n",
              "    }\n",
              "\n",
              "    .dataframe tbody tr th {\n",
              "        vertical-align: top;\n",
              "    }\n",
              "\n",
              "    .dataframe thead th {\n",
              "        text-align: right;\n",
              "    }\n",
              "</style>\n",
              "<table border=\"1\" class=\"dataframe\">\n",
              "  <thead>\n",
              "    <tr style=\"text-align: right;\">\n",
              "      <th></th>\n",
              "      <th>Age</th>\n",
              "      <th>Attrition</th>\n",
              "      <th>BusinessTravel</th>\n",
              "      <th>Department</th>\n",
              "      <th>DistanceFromHome</th>\n",
              "      <th>Education</th>\n",
              "      <th>EducationField</th>\n",
              "      <th>EnvironmentSatisfaction</th>\n",
              "      <th>HourlyRate</th>\n",
              "      <th>JobInvolvement</th>\n",
              "      <th>...</th>\n",
              "      <th>PerformanceRating</th>\n",
              "      <th>RelationshipSatisfaction</th>\n",
              "      <th>StockOptionLevel</th>\n",
              "      <th>TotalWorkingYears</th>\n",
              "      <th>TrainingTimesLastYear</th>\n",
              "      <th>WorkLifeBalance</th>\n",
              "      <th>YearsAtCompany</th>\n",
              "      <th>YearsInCurrentRole</th>\n",
              "      <th>YearsSinceLastPromotion</th>\n",
              "      <th>YearsWithCurrManager</th>\n",
              "    </tr>\n",
              "  </thead>\n",
              "  <tbody>\n",
              "    <tr>\n",
              "      <th>0</th>\n",
              "      <td>41</td>\n",
              "      <td>Yes</td>\n",
              "      <td>Travel_Rarely</td>\n",
              "      <td>Sales</td>\n",
              "      <td>1</td>\n",
              "      <td>2</td>\n",
              "      <td>Life Sciences</td>\n",
              "      <td>2</td>\n",
              "      <td>94</td>\n",
              "      <td>3</td>\n",
              "      <td>...</td>\n",
              "      <td>3</td>\n",
              "      <td>1</td>\n",
              "      <td>0</td>\n",
              "      <td>8</td>\n",
              "      <td>0</td>\n",
              "      <td>1</td>\n",
              "      <td>6</td>\n",
              "      <td>4</td>\n",
              "      <td>0</td>\n",
              "      <td>5</td>\n",
              "    </tr>\n",
              "    <tr>\n",
              "      <th>1</th>\n",
              "      <td>49</td>\n",
              "      <td>No</td>\n",
              "      <td>Travel_Frequently</td>\n",
              "      <td>Research &amp; Development</td>\n",
              "      <td>8</td>\n",
              "      <td>1</td>\n",
              "      <td>Life Sciences</td>\n",
              "      <td>3</td>\n",
              "      <td>61</td>\n",
              "      <td>2</td>\n",
              "      <td>...</td>\n",
              "      <td>4</td>\n",
              "      <td>4</td>\n",
              "      <td>1</td>\n",
              "      <td>10</td>\n",
              "      <td>3</td>\n",
              "      <td>3</td>\n",
              "      <td>10</td>\n",
              "      <td>7</td>\n",
              "      <td>1</td>\n",
              "      <td>7</td>\n",
              "    </tr>\n",
              "    <tr>\n",
              "      <th>2</th>\n",
              "      <td>37</td>\n",
              "      <td>Yes</td>\n",
              "      <td>Travel_Rarely</td>\n",
              "      <td>Research &amp; Development</td>\n",
              "      <td>2</td>\n",
              "      <td>2</td>\n",
              "      <td>Other</td>\n",
              "      <td>4</td>\n",
              "      <td>92</td>\n",
              "      <td>2</td>\n",
              "      <td>...</td>\n",
              "      <td>3</td>\n",
              "      <td>2</td>\n",
              "      <td>0</td>\n",
              "      <td>7</td>\n",
              "      <td>3</td>\n",
              "      <td>3</td>\n",
              "      <td>0</td>\n",
              "      <td>0</td>\n",
              "      <td>0</td>\n",
              "      <td>0</td>\n",
              "    </tr>\n",
              "    <tr>\n",
              "      <th>3</th>\n",
              "      <td>33</td>\n",
              "      <td>No</td>\n",
              "      <td>Travel_Frequently</td>\n",
              "      <td>Research &amp; Development</td>\n",
              "      <td>3</td>\n",
              "      <td>4</td>\n",
              "      <td>Life Sciences</td>\n",
              "      <td>4</td>\n",
              "      <td>56</td>\n",
              "      <td>3</td>\n",
              "      <td>...</td>\n",
              "      <td>3</td>\n",
              "      <td>3</td>\n",
              "      <td>0</td>\n",
              "      <td>8</td>\n",
              "      <td>3</td>\n",
              "      <td>3</td>\n",
              "      <td>8</td>\n",
              "      <td>7</td>\n",
              "      <td>3</td>\n",
              "      <td>0</td>\n",
              "    </tr>\n",
              "    <tr>\n",
              "      <th>4</th>\n",
              "      <td>27</td>\n",
              "      <td>No</td>\n",
              "      <td>Travel_Rarely</td>\n",
              "      <td>Research &amp; Development</td>\n",
              "      <td>2</td>\n",
              "      <td>1</td>\n",
              "      <td>Medical</td>\n",
              "      <td>1</td>\n",
              "      <td>40</td>\n",
              "      <td>3</td>\n",
              "      <td>...</td>\n",
              "      <td>3</td>\n",
              "      <td>4</td>\n",
              "      <td>1</td>\n",
              "      <td>6</td>\n",
              "      <td>3</td>\n",
              "      <td>3</td>\n",
              "      <td>2</td>\n",
              "      <td>2</td>\n",
              "      <td>2</td>\n",
              "      <td>2</td>\n",
              "    </tr>\n",
              "  </tbody>\n",
              "</table>\n",
              "<p>5 rows × 27 columns</p>\n",
              "</div>"
            ],
            "text/plain": [
              "   Age Attrition     BusinessTravel              Department  DistanceFromHome  \\\n",
              "0   41       Yes      Travel_Rarely                   Sales                 1   \n",
              "1   49        No  Travel_Frequently  Research & Development                 8   \n",
              "2   37       Yes      Travel_Rarely  Research & Development                 2   \n",
              "3   33        No  Travel_Frequently  Research & Development                 3   \n",
              "4   27        No      Travel_Rarely  Research & Development                 2   \n",
              "\n",
              "   Education EducationField  EnvironmentSatisfaction  HourlyRate  \\\n",
              "0          2  Life Sciences                        2          94   \n",
              "1          1  Life Sciences                        3          61   \n",
              "2          2          Other                        4          92   \n",
              "3          4  Life Sciences                        4          56   \n",
              "4          1        Medical                        1          40   \n",
              "\n",
              "   JobInvolvement  ...  PerformanceRating RelationshipSatisfaction  \\\n",
              "0               3  ...                  3                        1   \n",
              "1               2  ...                  4                        4   \n",
              "2               2  ...                  3                        2   \n",
              "3               3  ...                  3                        3   \n",
              "4               3  ...                  3                        4   \n",
              "\n",
              "   StockOptionLevel TotalWorkingYears  TrainingTimesLastYear WorkLifeBalance  \\\n",
              "0                 0                 8                      0               1   \n",
              "1                 1                10                      3               3   \n",
              "2                 0                 7                      3               3   \n",
              "3                 0                 8                      3               3   \n",
              "4                 1                 6                      3               3   \n",
              "\n",
              "   YearsAtCompany  YearsInCurrentRole  YearsSinceLastPromotion  \\\n",
              "0               6                   4                        0   \n",
              "1              10                   7                        1   \n",
              "2               0                   0                        0   \n",
              "3               8                   7                        3   \n",
              "4               2                   2                        2   \n",
              "\n",
              "   YearsWithCurrManager  \n",
              "0                     5  \n",
              "1                     7  \n",
              "2                     0  \n",
              "3                     0  \n",
              "4                     2  \n",
              "\n",
              "[5 rows x 27 columns]"
            ]
          },
          "execution_count": 1,
          "metadata": {},
          "output_type": "execute_result"
        }
      ],
      "source": [
        "# Import our dependencies\n",
        "from sklearn.model_selection import train_test_split\n",
        "from sklearn.preprocessing import StandardScaler\n",
        "import pandas as pd\n",
        "import numpy as np\n",
        "from tensorflow.keras.models import Model\n",
        "from tensorflow.keras import layers\n",
        "\n",
        "#  Import and read the attrition data\n",
        "attrition_df = pd.read_csv('https://static.bc-edx.com/ai/ail-v-1-0/m19/lms/datasets/attrition.csv')\n",
        "attrition_df.head()"
      ]
    },
    {
      "cell_type": "code",
      "execution_count": 2,
      "metadata": {
        "colab": {
          "base_uri": "https://localhost:8080/"
        },
        "id": "g22aQSY4Gc3Q",
        "outputId": "1f5c13c1-b981-4e40-a7ed-dd3fe6f1b81e"
      },
      "outputs": [
        {
          "data": {
            "text/plain": [
              "Age                         43\n",
              "Attrition                    2\n",
              "BusinessTravel               3\n",
              "Department                   3\n",
              "DistanceFromHome            29\n",
              "Education                    5\n",
              "EducationField               6\n",
              "EnvironmentSatisfaction      4\n",
              "HourlyRate                  71\n",
              "JobInvolvement               4\n",
              "JobLevel                     5\n",
              "JobRole                      9\n",
              "JobSatisfaction              4\n",
              "MaritalStatus                3\n",
              "NumCompaniesWorked          10\n",
              "OverTime                     2\n",
              "PercentSalaryHike           15\n",
              "PerformanceRating            2\n",
              "RelationshipSatisfaction     4\n",
              "StockOptionLevel             4\n",
              "TotalWorkingYears           40\n",
              "TrainingTimesLastYear        7\n",
              "WorkLifeBalance              4\n",
              "YearsAtCompany              37\n",
              "YearsInCurrentRole          19\n",
              "YearsSinceLastPromotion     16\n",
              "YearsWithCurrManager        18\n",
              "dtype: int64"
            ]
          },
          "execution_count": 2,
          "metadata": {},
          "output_type": "execute_result"
        }
      ],
      "source": [
        "# Determine the number of unique values in each column.\n",
        "attrition_df.nunique()"
      ]
    },
    {
      "cell_type": "code",
      "execution_count": 3,
      "metadata": {
        "id": "50vMgBEnJbfM"
      },
      "outputs": [
        {
          "name": "stdout",
          "output_type": "stream",
          "text": [
            "Attrition     object\n",
            "Department    object\n",
            "dtype: object\n"
          ]
        }
      ],
      "source": [
        "# Create y_df with the Attrition and Department columns\n",
        "y_df = attrition_df[['Attrition', 'Department']]\n",
        "print(y_df.dtypes)"
      ]
    },
    {
      "cell_type": "code",
      "execution_count": 4,
      "metadata": {
        "colab": {
          "base_uri": "https://localhost:8080/"
        },
        "id": "Virka0zLGc3R",
        "outputId": "dd5aee3a-9458-4ba6-e857-1b234de40915"
      },
      "outputs": [
        {
          "name": "stdout",
          "output_type": "stream",
          "text": [
            "Age                                 int64\n",
            "DistanceFromHome                    int64\n",
            "HourlyRate                          int64\n",
            "JobSatisfaction                     int64\n",
            "PerformanceRating                   int64\n",
            "WorkLifeBalance                     int64\n",
            "YearsInCurrentRole                  int64\n",
            "BusinessTravel_Non-Travel           int32\n",
            "BusinessTravel_Travel_Frequently    int32\n",
            "BusinessTravel_Travel_Rarely        int32\n",
            "dtype: object\n"
          ]
        }
      ],
      "source": [
        "# Create a list of at least 10 column names to use as X data\n",
        "# columns = [\"Age\", \"BusinessTravel\", \"DistanceFromHome\", \"Education\", \"HourlyRate\", \"JobSatisfaction\", \"PerformanceRating\", \"EnvironmentSatisfaction\", \"WorkLifeBalance\", \"YearsInCurrentRole\"]\n",
        "columns = [\"Age\", \"BusinessTravel\", \"DistanceFromHome\", \"HourlyRate\", \"JobSatisfaction\", \"PerformanceRating\", \"WorkLifeBalance\", \"YearsInCurrentRole\"]\n",
        "\n",
        "# Create X_df using your selected columns\n",
        "X_df = attrition_df[columns]\n",
        "\n",
        "# Because BusinessTravel is a categorical variable, we need to convert it to a numerical value.\n",
        "# Convert the BusinessTravel column to a numerical value\n",
        "X_df = pd.get_dummies(X_df, columns=[\"BusinessTravel\"], dtype=int)\n",
        "\n",
        "# Show the data types for each column including the new dummy columns\n",
        "print(X_df.dtypes)"
      ]
    },
    {
      "cell_type": "code",
      "execution_count": 5,
      "metadata": {
        "id": "KaJfdOGUMHMR"
      },
      "outputs": [],
      "source": [
        "# Split the data into training and testing sets\n",
        "from sklearn.model_selection import train_test_split\n",
        "X_train, X_test, y_train, y_test = train_test_split(X_df, y_df, random_state=78)"
      ]
    },
    {
      "cell_type": "code",
      "execution_count": 6,
      "metadata": {
        "colab": {
          "base_uri": "https://localhost:8080/"
        },
        "id": "NYubUJqiLCSp",
        "outputId": "53f31721-571c-4c94-d13e-25a715749593"
      },
      "outputs": [
        {
          "name": "stdout",
          "output_type": "stream",
          "text": [
            "(1102, 10) (368, 10) (1102, 2) (368, 2)\n"
          ]
        }
      ],
      "source": [
        "# Convert your X data to numeric data types however you see fit\n",
        "X_train = X_train.astype('int64')\n",
        "X_test = X_test.astype('int64')\n",
        "\n",
        "###### Add new code cells as necessary\n",
        "print(X_train.shape, X_test.shape, y_train.shape, y_test.shape)"
      ]
    },
    {
      "cell_type": "code",
      "execution_count": 7,
      "metadata": {
        "id": "EWA-aIA5Gc3T"
      },
      "outputs": [],
      "source": [
        "# Create a StandardScaler instance\n",
        "scaler = StandardScaler()\n",
        "\n",
        "# Fit the StandardScaler to the training data\n",
        "X_scaler = scaler.fit(X_train)\n",
        "\n",
        "# Scale the training and testing data\n",
        "X_train_scaled = X_scaler.transform(X_train)\n",
        "X_test_scaled = X_scaler.transform(X_test)"
      ]
    },
    {
      "cell_type": "code",
      "execution_count": 8,
      "metadata": {
        "colab": {
          "base_uri": "https://localhost:8080/"
        },
        "id": "-z0Mky8vQSz4",
        "outputId": "debefc85-c20b-48f5-f4d9-91eadd65d36a"
      },
      "outputs": [
        {
          "data": {
            "text/plain": [
              "array([[0., 1., 0.],\n",
              "       [0., 1., 0.],\n",
              "       [0., 1., 0.],\n",
              "       [0., 1., 0.],\n",
              "       [0., 1., 0.]])"
            ]
          },
          "execution_count": 8,
          "metadata": {},
          "output_type": "execute_result"
        }
      ],
      "source": [
        "# Create a OneHotEncoder for the Department column\n",
        "from sklearn.preprocessing import OneHotEncoder\n",
        "enc_Department = OneHotEncoder(sparse_output=False)\n",
        "\n",
        "# Fit the encoder to the training data\n",
        "enc_Department.fit(y_train['Department'].values.reshape(-1, 1))\n",
        "\n",
        "# Create two new variables by applying the encoder to the training and testing data\n",
        "y_train_encoded_Department = enc_Department.transform(y_train['Department'].values.reshape(-1, 1))\n",
        "y_test_encoded_Department = enc_Department.transform(y_test['Department'].values.reshape(-1, 1))\n",
        "\n",
        "# print first 5 rows of y_test_encoded_Department\n",
        "y_test_encoded_Department[:5]"
      ]
    },
    {
      "cell_type": "code",
      "execution_count": 9,
      "metadata": {
        "colab": {
          "base_uri": "https://localhost:8080/"
        },
        "id": "-G4DSpvFRrk4",
        "outputId": "9842e948-8a55-4b80-8fac-f96714e85589"
      },
      "outputs": [
        {
          "data": {
            "text/plain": [
              "array([[1., 0.],\n",
              "       [1., 0.],\n",
              "       [1., 0.],\n",
              "       [1., 0.],\n",
              "       [0., 1.]])"
            ]
          },
          "execution_count": 9,
          "metadata": {},
          "output_type": "execute_result"
        }
      ],
      "source": [
        "# Create a OneHotEncoder for the Attrition column\n",
        "enc_Attrition = OneHotEncoder(sparse_output=False)\n",
        "\n",
        "# Fit the encoder to the training data\n",
        "enc_Attrition.fit(y_train['Attrition'].values.reshape(-1, 1))\n",
        "\n",
        "# Create two new variables by applying the encoder to the training and testing data\n",
        "y_train_encoded_Attrition = enc_Attrition.transform(y_train['Attrition'].values.reshape(-1, 1))\n",
        "y_test_encoded_Attrition = enc_Attrition.transform(y_test['Attrition'].values.reshape(-1, 1))\n",
        "\n",
        "# print first 5 rows of y_test_encoded_Attrition\n",
        "y_test_encoded_Attrition[:5]"
      ]
    },
    {
      "cell_type": "markdown",
      "metadata": {
        "id": "ykNmu_WWGc3T"
      },
      "source": [
        "## Create, Compile, and Train the Model"
      ]
    },
    {
      "cell_type": "code",
      "execution_count": 10,
      "metadata": {
        "id": "WUptZqmSGc3T"
      },
      "outputs": [
        {
          "name": "stdout",
          "output_type": "stream",
          "text": [
            "WARNING:tensorflow:From c:\\Users\\skilu\\anaconda3\\envs\\dev\\Lib\\site-packages\\keras\\src\\backend.py:1398: The name tf.executing_eagerly_outside_functions is deprecated. Please use tf.compat.v1.executing_eagerly_outside_functions instead.\n",
            "\n"
          ]
        }
      ],
      "source": [
        "# Find the number of columns in the X training data\n",
        "input_features = X_train_scaled.shape[1]\n",
        "\n",
        "# Create the input layer\n",
        "inputs = layers.Input(shape=(input_features))   # Create input layer\n",
        "\n",
        "# Create at least two shared layer\n",
        "shared_1 = layers.Dense(64, activation='relu', name='shared1')(inputs)\n",
        "shared_2 = layers.Dense(128, activation='relu', name='shared2')(shared_1)"
      ]
    },
    {
      "cell_type": "code",
      "execution_count": 11,
      "metadata": {
        "id": "JukjTm2yTEqd"
      },
      "outputs": [],
      "source": [
        "# Create a branch for Department with a hidden layer and an output layer\n",
        "# Create the hidden layer\n",
        "hidden_1 = layers.Dense(32, activation='relu', name='department_hidden')(shared_2)\n",
        "\n",
        "# Create the output layer\n",
        "output_1 = layers.Dense(3, activation='softmax', name='department_output')(hidden_1)"
      ]
    },
    {
      "cell_type": "code",
      "execution_count": 12,
      "metadata": {
        "id": "9OqhUiOJUBkR"
      },
      "outputs": [],
      "source": [
        "# Create a branch for Attrition with a hidden layer and an output layer\n",
        "# Create the hidden layer\n",
        "hidden_2 = layers.Dense(32, activation='relu', name='attrition_hidden')(shared_2)\n",
        "\n",
        "# Create the output layer\n",
        "output_2 = layers.Dense(2, activation='sigmoid', name='attrition_output')(hidden_2)"
      ]
    },
    {
      "cell_type": "code",
      "execution_count": 13,
      "metadata": {
        "colab": {
          "base_uri": "https://localhost:8080/"
        },
        "id": "twmuejdxGc3T",
        "outputId": "25096308-b68b-42e4-e4ea-ae82e97c435a"
      },
      "outputs": [
        {
          "name": "stdout",
          "output_type": "stream",
          "text": [
            "WARNING:tensorflow:From c:\\Users\\skilu\\anaconda3\\envs\\dev\\Lib\\site-packages\\keras\\src\\optimizers\\__init__.py:309: The name tf.train.Optimizer is deprecated. Please use tf.compat.v1.train.Optimizer instead.\n",
            "\n",
            "Model: \"model\"\n",
            "__________________________________________________________________________________________________\n",
            " Layer (type)                Output Shape                 Param #   Connected to                  \n",
            "==================================================================================================\n",
            " input_1 (InputLayer)        [(None, 10)]                 0         []                            \n",
            "                                                                                                  \n",
            " shared1 (Dense)             (None, 64)                   704       ['input_1[0][0]']             \n",
            "                                                                                                  \n",
            " shared2 (Dense)             (None, 128)                  8320      ['shared1[0][0]']             \n",
            "                                                                                                  \n",
            " department_hidden (Dense)   (None, 32)                   4128      ['shared2[0][0]']             \n",
            "                                                                                                  \n",
            " attrition_hidden (Dense)    (None, 32)                   4128      ['shared2[0][0]']             \n",
            "                                                                                                  \n",
            " department_output (Dense)   (None, 3)                    99        ['department_hidden[0][0]']   \n",
            "                                                                                                  \n",
            " attrition_output (Dense)    (None, 2)                    66        ['attrition_hidden[0][0]']    \n",
            "                                                                                                  \n",
            "==================================================================================================\n",
            "Total params: 17445 (68.14 KB)\n",
            "Trainable params: 17445 (68.14 KB)\n",
            "Non-trainable params: 0 (0.00 Byte)\n",
            "__________________________________________________________________________________________________\n"
          ]
        }
      ],
      "source": [
        "# Create the model\n",
        "model = Model(inputs=inputs, outputs=[output_1, output_2])\n",
        "\n",
        "# Compile the model\n",
        "model.compile(optimizer='adam',\n",
        "              loss={'department_output': 'categorical_crossentropy', 'attrition_output': 'binary_crossentropy'},\n",
        "              metrics={'department_output': 'accuracy', 'attrition_output': 'accuracy'})\n",
        "\n",
        "# Summarize the model\n",
        "model.summary()"
      ]
    },
    {
      "cell_type": "code",
      "execution_count": 14,
      "metadata": {
        "colab": {
          "base_uri": "https://localhost:8080/"
        },
        "id": "c8oGy0dpGc3U",
        "outputId": "cc667d43-28cf-42d4-d719-c2bc02888d30"
      },
      "outputs": [
        {
          "name": "stdout",
          "output_type": "stream",
          "text": [
            "Epoch 1/100\n",
            "WARNING:tensorflow:From c:\\Users\\skilu\\anaconda3\\envs\\dev\\Lib\\site-packages\\keras\\src\\engine\\base_layer_utils.py:384: The name tf.executing_eagerly_outside_functions is deprecated. Please use tf.compat.v1.executing_eagerly_outside_functions instead.\n",
            "\n",
            "WARNING:tensorflow:From c:\\Users\\skilu\\anaconda3\\envs\\dev\\Lib\\site-packages\\keras\\src\\utils\\tf_utils.py:492: The name tf.ragged.RaggedTensorValue is deprecated. Please use tf.compat.v1.ragged.RaggedTensorValue instead.\n",
            "\n",
            "35/35 - 2s - loss: 1.3380 - department_output_loss: 0.8250 - attrition_output_loss: 0.5130 - department_output_accuracy: 0.6642 - attrition_output_accuracy: 0.8221 - 2s/epoch - 71ms/step\n",
            "Epoch 2/100\n",
            "35/35 - 0s - loss: 1.1988 - department_output_loss: 0.7567 - attrition_output_loss: 0.4421 - department_output_accuracy: 0.6670 - attrition_output_accuracy: 0.8276 - 54ms/epoch - 2ms/step\n",
            "Epoch 3/100\n",
            "35/35 - 0s - loss: 1.1783 - department_output_loss: 0.7572 - attrition_output_loss: 0.4212 - department_output_accuracy: 0.6670 - attrition_output_accuracy: 0.8303 - 61ms/epoch - 2ms/step\n",
            "Epoch 4/100\n",
            "35/35 - 0s - loss: 1.1499 - department_output_loss: 0.7405 - attrition_output_loss: 0.4094 - department_output_accuracy: 0.6688 - attrition_output_accuracy: 0.8385 - 47ms/epoch - 1ms/step\n",
            "Epoch 5/100\n",
            "35/35 - 0s - loss: 1.1374 - department_output_loss: 0.7335 - attrition_output_loss: 0.4039 - department_output_accuracy: 0.6688 - attrition_output_accuracy: 0.8430 - 47ms/epoch - 1ms/step\n",
            "Epoch 6/100\n",
            "35/35 - 0s - loss: 1.1250 - department_output_loss: 0.7301 - attrition_output_loss: 0.3949 - department_output_accuracy: 0.6624 - attrition_output_accuracy: 0.8457 - 63ms/epoch - 2ms/step\n",
            "Epoch 7/100\n",
            "35/35 - 0s - loss: 1.1145 - department_output_loss: 0.7240 - attrition_output_loss: 0.3905 - department_output_accuracy: 0.6706 - attrition_output_accuracy: 0.8466 - 79ms/epoch - 2ms/step\n",
            "Epoch 8/100\n",
            "35/35 - 0s - loss: 1.1046 - department_output_loss: 0.7185 - attrition_output_loss: 0.3860 - department_output_accuracy: 0.6760 - attrition_output_accuracy: 0.8494 - 47ms/epoch - 1ms/step\n",
            "Epoch 9/100\n",
            "35/35 - 0s - loss: 1.0962 - department_output_loss: 0.7168 - attrition_output_loss: 0.3794 - department_output_accuracy: 0.6670 - attrition_output_accuracy: 0.8448 - 47ms/epoch - 1ms/step\n",
            "Epoch 10/100\n",
            "35/35 - 0s - loss: 1.0806 - department_output_loss: 0.7045 - attrition_output_loss: 0.3761 - department_output_accuracy: 0.6815 - attrition_output_accuracy: 0.8539 - 47ms/epoch - 1ms/step\n",
            "Epoch 11/100\n",
            "35/35 - 0s - loss: 1.0668 - department_output_loss: 0.6964 - attrition_output_loss: 0.3704 - department_output_accuracy: 0.6833 - attrition_output_accuracy: 0.8530 - 55ms/epoch - 2ms/step\n",
            "Epoch 12/100\n",
            "35/35 - 0s - loss: 1.0582 - department_output_loss: 0.6917 - attrition_output_loss: 0.3665 - department_output_accuracy: 0.6878 - attrition_output_accuracy: 0.8575 - 57ms/epoch - 2ms/step\n",
            "Epoch 13/100\n",
            "35/35 - 0s - loss: 1.0475 - department_output_loss: 0.6850 - attrition_output_loss: 0.3625 - department_output_accuracy: 0.6878 - attrition_output_accuracy: 0.8593 - 63ms/epoch - 2ms/step\n",
            "Epoch 14/100\n",
            "35/35 - 0s - loss: 1.0428 - department_output_loss: 0.6828 - attrition_output_loss: 0.3600 - department_output_accuracy: 0.6969 - attrition_output_accuracy: 0.8539 - 47ms/epoch - 1ms/step\n",
            "Epoch 15/100\n",
            "35/35 - 0s - loss: 1.0327 - department_output_loss: 0.6784 - attrition_output_loss: 0.3544 - department_output_accuracy: 0.6951 - attrition_output_accuracy: 0.8557 - 63ms/epoch - 2ms/step\n",
            "Epoch 16/100\n",
            "35/35 - 0s - loss: 1.0203 - department_output_loss: 0.6726 - attrition_output_loss: 0.3477 - department_output_accuracy: 0.6924 - attrition_output_accuracy: 0.8630 - 63ms/epoch - 2ms/step\n",
            "Epoch 17/100\n",
            "35/35 - 0s - loss: 1.0077 - department_output_loss: 0.6637 - attrition_output_loss: 0.3440 - department_output_accuracy: 0.7060 - attrition_output_accuracy: 0.8612 - 57ms/epoch - 2ms/step\n",
            "Epoch 18/100\n",
            "35/35 - 0s - loss: 0.9929 - department_output_loss: 0.6529 - attrition_output_loss: 0.3400 - department_output_accuracy: 0.7105 - attrition_output_accuracy: 0.8630 - 47ms/epoch - 1ms/step\n",
            "Epoch 19/100\n",
            "35/35 - 0s - loss: 0.9789 - department_output_loss: 0.6440 - attrition_output_loss: 0.3349 - department_output_accuracy: 0.7151 - attrition_output_accuracy: 0.8630 - 54ms/epoch - 2ms/step\n",
            "Epoch 20/100\n",
            "35/35 - 0s - loss: 0.9709 - department_output_loss: 0.6411 - attrition_output_loss: 0.3298 - department_output_accuracy: 0.7151 - attrition_output_accuracy: 0.8621 - 47ms/epoch - 1ms/step\n",
            "Epoch 21/100\n",
            "35/35 - 0s - loss: 0.9536 - department_output_loss: 0.6300 - attrition_output_loss: 0.3236 - department_output_accuracy: 0.7151 - attrition_output_accuracy: 0.8730 - 63ms/epoch - 2ms/step\n",
            "Epoch 22/100\n",
            "35/35 - 0s - loss: 0.9499 - department_output_loss: 0.6289 - attrition_output_loss: 0.3209 - department_output_accuracy: 0.7169 - attrition_output_accuracy: 0.8621 - 63ms/epoch - 2ms/step\n",
            "Epoch 23/100\n",
            "35/35 - 0s - loss: 0.9542 - department_output_loss: 0.6300 - attrition_output_loss: 0.3242 - department_output_accuracy: 0.7078 - attrition_output_accuracy: 0.8603 - 63ms/epoch - 2ms/step\n",
            "Epoch 24/100\n",
            "35/35 - 0s - loss: 0.9298 - department_output_loss: 0.6128 - attrition_output_loss: 0.3170 - department_output_accuracy: 0.7314 - attrition_output_accuracy: 0.8730 - 47ms/epoch - 1ms/step\n",
            "Epoch 25/100\n",
            "35/35 - 0s - loss: 0.9199 - department_output_loss: 0.6111 - attrition_output_loss: 0.3088 - department_output_accuracy: 0.7223 - attrition_output_accuracy: 0.8702 - 63ms/epoch - 2ms/step\n",
            "Epoch 26/100\n",
            "35/35 - 0s - loss: 0.9060 - department_output_loss: 0.5987 - attrition_output_loss: 0.3073 - department_output_accuracy: 0.7432 - attrition_output_accuracy: 0.8702 - 63ms/epoch - 2ms/step\n",
            "Epoch 27/100\n",
            "35/35 - 0s - loss: 0.8925 - department_output_loss: 0.5947 - attrition_output_loss: 0.2978 - department_output_accuracy: 0.7314 - attrition_output_accuracy: 0.8811 - 47ms/epoch - 1ms/step\n",
            "Epoch 28/100\n",
            "35/35 - 0s - loss: 0.8759 - department_output_loss: 0.5794 - attrition_output_loss: 0.2965 - department_output_accuracy: 0.7414 - attrition_output_accuracy: 0.8811 - 72ms/epoch - 2ms/step\n",
            "Epoch 29/100\n",
            "35/35 - 0s - loss: 0.8632 - department_output_loss: 0.5735 - attrition_output_loss: 0.2897 - department_output_accuracy: 0.7459 - attrition_output_accuracy: 0.8766 - 53ms/epoch - 2ms/step\n",
            "Epoch 30/100\n",
            "35/35 - 0s - loss: 0.8501 - department_output_loss: 0.5600 - attrition_output_loss: 0.2900 - department_output_accuracy: 0.7532 - attrition_output_accuracy: 0.8766 - 62ms/epoch - 2ms/step\n",
            "Epoch 31/100\n",
            "35/35 - 0s - loss: 0.8336 - department_output_loss: 0.5544 - attrition_output_loss: 0.2792 - department_output_accuracy: 0.7505 - attrition_output_accuracy: 0.8820 - 63ms/epoch - 2ms/step\n",
            "Epoch 32/100\n",
            "35/35 - 0s - loss: 0.8309 - department_output_loss: 0.5482 - attrition_output_loss: 0.2828 - department_output_accuracy: 0.7604 - attrition_output_accuracy: 0.8848 - 47ms/epoch - 1ms/step\n",
            "Epoch 33/100\n",
            "35/35 - 0s - loss: 0.8165 - department_output_loss: 0.5445 - attrition_output_loss: 0.2720 - department_output_accuracy: 0.7632 - attrition_output_accuracy: 0.8829 - 47ms/epoch - 1ms/step\n",
            "Epoch 34/100\n",
            "35/35 - 0s - loss: 0.7952 - department_output_loss: 0.5289 - attrition_output_loss: 0.2664 - department_output_accuracy: 0.7686 - attrition_output_accuracy: 0.8929 - 50ms/epoch - 1ms/step\n",
            "Epoch 35/100\n",
            "35/35 - 0s - loss: 0.7904 - department_output_loss: 0.5194 - attrition_output_loss: 0.2710 - department_output_accuracy: 0.7722 - attrition_output_accuracy: 0.8947 - 63ms/epoch - 2ms/step\n",
            "Epoch 36/100\n",
            "35/35 - 0s - loss: 0.7901 - department_output_loss: 0.5266 - attrition_output_loss: 0.2634 - department_output_accuracy: 0.7632 - attrition_output_accuracy: 0.8820 - 63ms/epoch - 2ms/step\n",
            "Epoch 37/100\n",
            "35/35 - 0s - loss: 0.7758 - department_output_loss: 0.5161 - attrition_output_loss: 0.2598 - department_output_accuracy: 0.7777 - attrition_output_accuracy: 0.8866 - 63ms/epoch - 2ms/step\n",
            "Epoch 38/100\n",
            "35/35 - 0s - loss: 0.7616 - department_output_loss: 0.5026 - attrition_output_loss: 0.2590 - department_output_accuracy: 0.7840 - attrition_output_accuracy: 0.8893 - 63ms/epoch - 2ms/step\n",
            "Epoch 39/100\n",
            "35/35 - 0s - loss: 0.7415 - department_output_loss: 0.4930 - attrition_output_loss: 0.2485 - department_output_accuracy: 0.7931 - attrition_output_accuracy: 0.9011 - 47ms/epoch - 1ms/step\n",
            "Epoch 40/100\n",
            "35/35 - 0s - loss: 0.7377 - department_output_loss: 0.4974 - attrition_output_loss: 0.2403 - department_output_accuracy: 0.7877 - attrition_output_accuracy: 0.8920 - 47ms/epoch - 1ms/step\n",
            "Epoch 41/100\n",
            "35/35 - 0s - loss: 0.7357 - department_output_loss: 0.4951 - attrition_output_loss: 0.2406 - department_output_accuracy: 0.7831 - attrition_output_accuracy: 0.8938 - 63ms/epoch - 2ms/step\n",
            "Epoch 42/100\n",
            "35/35 - 0s - loss: 0.7142 - department_output_loss: 0.4691 - attrition_output_loss: 0.2451 - department_output_accuracy: 0.8149 - attrition_output_accuracy: 0.8966 - 47ms/epoch - 1ms/step\n",
            "Epoch 43/100\n",
            "35/35 - 0s - loss: 0.7008 - department_output_loss: 0.4723 - attrition_output_loss: 0.2285 - department_output_accuracy: 0.8013 - attrition_output_accuracy: 0.8956 - 65ms/epoch - 2ms/step\n",
            "Epoch 44/100\n",
            "35/35 - 0s - loss: 0.6866 - department_output_loss: 0.4579 - attrition_output_loss: 0.2287 - department_output_accuracy: 0.8049 - attrition_output_accuracy: 0.9011 - 61ms/epoch - 2ms/step\n",
            "Epoch 45/100\n",
            "35/35 - 0s - loss: 0.6753 - department_output_loss: 0.4550 - attrition_output_loss: 0.2202 - department_output_accuracy: 0.8103 - attrition_output_accuracy: 0.9065 - 63ms/epoch - 2ms/step\n",
            "Epoch 46/100\n",
            "35/35 - 0s - loss: 0.6582 - department_output_loss: 0.4393 - attrition_output_loss: 0.2190 - department_output_accuracy: 0.8140 - attrition_output_accuracy: 0.9083 - 62ms/epoch - 2ms/step\n",
            "Epoch 47/100\n",
            "35/35 - 0s - loss: 0.6572 - department_output_loss: 0.4294 - attrition_output_loss: 0.2278 - department_output_accuracy: 0.8267 - attrition_output_accuracy: 0.8975 - 63ms/epoch - 2ms/step\n",
            "Epoch 48/100\n",
            "35/35 - 0s - loss: 0.6306 - department_output_loss: 0.4219 - attrition_output_loss: 0.2088 - department_output_accuracy: 0.8249 - attrition_output_accuracy: 0.9102 - 63ms/epoch - 2ms/step\n",
            "Epoch 49/100\n",
            "35/35 - 0s - loss: 0.6305 - department_output_loss: 0.4200 - attrition_output_loss: 0.2104 - department_output_accuracy: 0.8230 - attrition_output_accuracy: 0.9138 - 47ms/epoch - 1ms/step\n",
            "Epoch 50/100\n",
            "35/35 - 0s - loss: 0.6058 - department_output_loss: 0.4064 - attrition_output_loss: 0.1994 - department_output_accuracy: 0.8339 - attrition_output_accuracy: 0.9156 - 47ms/epoch - 1ms/step\n",
            "Epoch 51/100\n",
            "35/35 - 0s - loss: 0.6071 - department_output_loss: 0.4047 - attrition_output_loss: 0.2024 - department_output_accuracy: 0.8312 - attrition_output_accuracy: 0.9156 - 47ms/epoch - 1ms/step\n",
            "Epoch 52/100\n",
            "35/35 - 0s - loss: 0.5974 - department_output_loss: 0.3975 - attrition_output_loss: 0.1999 - department_output_accuracy: 0.8430 - attrition_output_accuracy: 0.9174 - 47ms/epoch - 1ms/step\n",
            "Epoch 53/100\n",
            "35/35 - 0s - loss: 0.5750 - department_output_loss: 0.3826 - attrition_output_loss: 0.1925 - department_output_accuracy: 0.8485 - attrition_output_accuracy: 0.9129 - 63ms/epoch - 2ms/step\n",
            "Epoch 54/100\n",
            "35/35 - 0s - loss: 0.5633 - department_output_loss: 0.3765 - attrition_output_loss: 0.1868 - department_output_accuracy: 0.8457 - attrition_output_accuracy: 0.9229 - 63ms/epoch - 2ms/step\n",
            "Epoch 55/100\n",
            "35/35 - 0s - loss: 0.5590 - department_output_loss: 0.3697 - attrition_output_loss: 0.1894 - department_output_accuracy: 0.8566 - attrition_output_accuracy: 0.9247 - 63ms/epoch - 2ms/step\n",
            "Epoch 56/100\n",
            "35/35 - 0s - loss: 0.5444 - department_output_loss: 0.3592 - attrition_output_loss: 0.1852 - department_output_accuracy: 0.8603 - attrition_output_accuracy: 0.9183 - 66ms/epoch - 2ms/step\n",
            "Epoch 57/100\n",
            "35/35 - 0s - loss: 0.5501 - department_output_loss: 0.3664 - attrition_output_loss: 0.1837 - department_output_accuracy: 0.8512 - attrition_output_accuracy: 0.9174 - 60ms/epoch - 2ms/step\n",
            "Epoch 58/100\n",
            "35/35 - 0s - loss: 0.5283 - department_output_loss: 0.3537 - attrition_output_loss: 0.1746 - department_output_accuracy: 0.8684 - attrition_output_accuracy: 0.9283 - 63ms/epoch - 2ms/step\n",
            "Epoch 59/100\n",
            "35/35 - 0s - loss: 0.5116 - department_output_loss: 0.3417 - attrition_output_loss: 0.1699 - department_output_accuracy: 0.8702 - attrition_output_accuracy: 0.9220 - 47ms/epoch - 1ms/step\n",
            "Epoch 60/100\n",
            "35/35 - 0s - loss: 0.5035 - department_output_loss: 0.3414 - attrition_output_loss: 0.1621 - department_output_accuracy: 0.8657 - attrition_output_accuracy: 0.9310 - 47ms/epoch - 1ms/step\n",
            "Epoch 61/100\n",
            "35/35 - 0s - loss: 0.5160 - department_output_loss: 0.3529 - attrition_output_loss: 0.1631 - department_output_accuracy: 0.8503 - attrition_output_accuracy: 0.9292 - 52ms/epoch - 1ms/step\n",
            "Epoch 62/100\n",
            "35/35 - 0s - loss: 0.5020 - department_output_loss: 0.3345 - attrition_output_loss: 0.1675 - department_output_accuracy: 0.8675 - attrition_output_accuracy: 0.9338 - 47ms/epoch - 1ms/step\n",
            "Epoch 63/100\n",
            "35/35 - 0s - loss: 0.4731 - department_output_loss: 0.3203 - attrition_output_loss: 0.1527 - department_output_accuracy: 0.8802 - attrition_output_accuracy: 0.9356 - 47ms/epoch - 1ms/step\n",
            "Epoch 64/100\n",
            "35/35 - 0s - loss: 0.4615 - department_output_loss: 0.3086 - attrition_output_loss: 0.1528 - department_output_accuracy: 0.8820 - attrition_output_accuracy: 0.9356 - 62ms/epoch - 2ms/step\n",
            "Epoch 65/100\n",
            "35/35 - 0s - loss: 0.4630 - department_output_loss: 0.3014 - attrition_output_loss: 0.1615 - department_output_accuracy: 0.8911 - attrition_output_accuracy: 0.9301 - 63ms/epoch - 2ms/step\n",
            "Epoch 66/100\n",
            "35/35 - 0s - loss: 0.4529 - department_output_loss: 0.2993 - attrition_output_loss: 0.1536 - department_output_accuracy: 0.8875 - attrition_output_accuracy: 0.9301 - 63ms/epoch - 2ms/step\n",
            "Epoch 67/100\n",
            "35/35 - 0s - loss: 0.4457 - department_output_loss: 0.3019 - attrition_output_loss: 0.1438 - department_output_accuracy: 0.8857 - attrition_output_accuracy: 0.9392 - 63ms/epoch - 2ms/step\n",
            "Epoch 68/100\n",
            "35/35 - 0s - loss: 0.4341 - department_output_loss: 0.2899 - attrition_output_loss: 0.1442 - department_output_accuracy: 0.8884 - attrition_output_accuracy: 0.9392 - 47ms/epoch - 1ms/step\n",
            "Epoch 69/100\n",
            "35/35 - 0s - loss: 0.4567 - department_output_loss: 0.3135 - attrition_output_loss: 0.1432 - department_output_accuracy: 0.8648 - attrition_output_accuracy: 0.9410 - 47ms/epoch - 1ms/step\n",
            "Epoch 70/100\n",
            "35/35 - 0s - loss: 0.4207 - department_output_loss: 0.2783 - attrition_output_loss: 0.1424 - department_output_accuracy: 0.8993 - attrition_output_accuracy: 0.9483 - 47ms/epoch - 1ms/step\n",
            "Epoch 71/100\n",
            "35/35 - 0s - loss: 0.4133 - department_output_loss: 0.2738 - attrition_output_loss: 0.1395 - department_output_accuracy: 0.9020 - attrition_output_accuracy: 0.9328 - 110ms/epoch - 3ms/step\n",
            "Epoch 72/100\n",
            "35/35 - 0s - loss: 0.4114 - department_output_loss: 0.2787 - attrition_output_loss: 0.1328 - department_output_accuracy: 0.8975 - attrition_output_accuracy: 0.9428 - 63ms/epoch - 2ms/step\n",
            "Epoch 73/100\n",
            "35/35 - 0s - loss: 0.3955 - department_output_loss: 0.2646 - attrition_output_loss: 0.1309 - department_output_accuracy: 0.9047 - attrition_output_accuracy: 0.9492 - 63ms/epoch - 2ms/step\n",
            "Epoch 74/100\n",
            "35/35 - 0s - loss: 0.3884 - department_output_loss: 0.2605 - attrition_output_loss: 0.1279 - department_output_accuracy: 0.9093 - attrition_output_accuracy: 0.9555 - 47ms/epoch - 1ms/step\n",
            "Epoch 75/100\n",
            "35/35 - 0s - loss: 0.3954 - department_output_loss: 0.2602 - attrition_output_loss: 0.1352 - department_output_accuracy: 0.9029 - attrition_output_accuracy: 0.9419 - 59ms/epoch - 2ms/step\n",
            "Epoch 76/100\n",
            "35/35 - 0s - loss: 0.3888 - department_output_loss: 0.2623 - attrition_output_loss: 0.1265 - department_output_accuracy: 0.9002 - attrition_output_accuracy: 0.9501 - 47ms/epoch - 1ms/step\n",
            "Epoch 77/100\n",
            "35/35 - 0s - loss: 0.3689 - department_output_loss: 0.2366 - attrition_output_loss: 0.1322 - department_output_accuracy: 0.9174 - attrition_output_accuracy: 0.9456 - 64ms/epoch - 2ms/step\n",
            "Epoch 78/100\n",
            "35/35 - 0s - loss: 0.3891 - department_output_loss: 0.2436 - attrition_output_loss: 0.1454 - department_output_accuracy: 0.9102 - attrition_output_accuracy: 0.9392 - 63ms/epoch - 2ms/step\n",
            "Epoch 79/100\n",
            "35/35 - 0s - loss: 0.3709 - department_output_loss: 0.2409 - attrition_output_loss: 0.1300 - department_output_accuracy: 0.9111 - attrition_output_accuracy: 0.9428 - 47ms/epoch - 1ms/step\n",
            "Epoch 80/100\n",
            "35/35 - 0s - loss: 0.3484 - department_output_loss: 0.2338 - attrition_output_loss: 0.1147 - department_output_accuracy: 0.9102 - attrition_output_accuracy: 0.9528 - 63ms/epoch - 2ms/step\n",
            "Epoch 81/100\n",
            "35/35 - 0s - loss: 0.3358 - department_output_loss: 0.2268 - attrition_output_loss: 0.1090 - department_output_accuracy: 0.9138 - attrition_output_accuracy: 0.9592 - 47ms/epoch - 1ms/step\n",
            "Epoch 82/100\n",
            "35/35 - 0s - loss: 0.3464 - department_output_loss: 0.2358 - attrition_output_loss: 0.1106 - department_output_accuracy: 0.9211 - attrition_output_accuracy: 0.9555 - 51ms/epoch - 1ms/step\n",
            "Epoch 83/100\n",
            "35/35 - 0s - loss: 0.3271 - department_output_loss: 0.2128 - attrition_output_loss: 0.1143 - department_output_accuracy: 0.9319 - attrition_output_accuracy: 0.9510 - 59ms/epoch - 2ms/step\n",
            "Epoch 84/100\n",
            "35/35 - 0s - loss: 0.3200 - department_output_loss: 0.2084 - attrition_output_loss: 0.1116 - department_output_accuracy: 0.9301 - attrition_output_accuracy: 0.9583 - 47ms/epoch - 1ms/step\n",
            "Epoch 85/100\n",
            "35/35 - 0s - loss: 0.3072 - department_output_loss: 0.2089 - attrition_output_loss: 0.0983 - department_output_accuracy: 0.9310 - attrition_output_accuracy: 0.9628 - 63ms/epoch - 2ms/step\n",
            "Epoch 86/100\n",
            "35/35 - 0s - loss: 0.2961 - department_output_loss: 0.1920 - attrition_output_loss: 0.1041 - department_output_accuracy: 0.9365 - attrition_output_accuracy: 0.9601 - 63ms/epoch - 2ms/step\n",
            "Epoch 87/100\n",
            "35/35 - 0s - loss: 0.2925 - department_output_loss: 0.1969 - attrition_output_loss: 0.0956 - department_output_accuracy: 0.9328 - attrition_output_accuracy: 0.9655 - 63ms/epoch - 2ms/step\n",
            "Epoch 88/100\n",
            "35/35 - 0s - loss: 0.2769 - department_output_loss: 0.1880 - attrition_output_loss: 0.0889 - department_output_accuracy: 0.9410 - attrition_output_accuracy: 0.9682 - 56ms/epoch - 2ms/step\n",
            "Epoch 89/100\n",
            "35/35 - 0s - loss: 0.2772 - department_output_loss: 0.1830 - attrition_output_loss: 0.0943 - department_output_accuracy: 0.9383 - attrition_output_accuracy: 0.9574 - 63ms/epoch - 2ms/step\n",
            "Epoch 90/100\n",
            "35/35 - 0s - loss: 0.2762 - department_output_loss: 0.1842 - attrition_output_loss: 0.0919 - department_output_accuracy: 0.9338 - attrition_output_accuracy: 0.9619 - 63ms/epoch - 2ms/step\n",
            "Epoch 91/100\n",
            "35/35 - 0s - loss: 0.2805 - department_output_loss: 0.1856 - attrition_output_loss: 0.0949 - department_output_accuracy: 0.9356 - attrition_output_accuracy: 0.9619 - 63ms/epoch - 2ms/step\n",
            "Epoch 92/100\n",
            "35/35 - 0s - loss: 0.2909 - department_output_loss: 0.2046 - attrition_output_loss: 0.0863 - department_output_accuracy: 0.9283 - attrition_output_accuracy: 0.9719 - 63ms/epoch - 2ms/step\n",
            "Epoch 93/100\n",
            "35/35 - 0s - loss: 0.3045 - department_output_loss: 0.2090 - attrition_output_loss: 0.0955 - department_output_accuracy: 0.9256 - attrition_output_accuracy: 0.9655 - 47ms/epoch - 1ms/step\n",
            "Epoch 94/100\n",
            "35/35 - 0s - loss: 0.2677 - department_output_loss: 0.1799 - attrition_output_loss: 0.0877 - department_output_accuracy: 0.9419 - attrition_output_accuracy: 0.9628 - 47ms/epoch - 1ms/step\n",
            "Epoch 95/100\n",
            "35/35 - 0s - loss: 0.2419 - department_output_loss: 0.1646 - attrition_output_loss: 0.0773 - department_output_accuracy: 0.9519 - attrition_output_accuracy: 0.9764 - 47ms/epoch - 1ms/step\n",
            "Epoch 96/100\n",
            "35/35 - 0s - loss: 0.2380 - department_output_loss: 0.1587 - attrition_output_loss: 0.0793 - department_output_accuracy: 0.9492 - attrition_output_accuracy: 0.9728 - 63ms/epoch - 2ms/step\n",
            "Epoch 97/100\n",
            "35/35 - 0s - loss: 0.2361 - department_output_loss: 0.1562 - attrition_output_loss: 0.0799 - department_output_accuracy: 0.9465 - attrition_output_accuracy: 0.9710 - 63ms/epoch - 2ms/step\n",
            "Epoch 98/100\n",
            "35/35 - 0s - loss: 0.2356 - department_output_loss: 0.1606 - attrition_output_loss: 0.0750 - department_output_accuracy: 0.9483 - attrition_output_accuracy: 0.9773 - 63ms/epoch - 2ms/step\n",
            "Epoch 99/100\n",
            "35/35 - 0s - loss: 0.2283 - department_output_loss: 0.1499 - attrition_output_loss: 0.0784 - department_output_accuracy: 0.9510 - attrition_output_accuracy: 0.9737 - 63ms/epoch - 2ms/step\n",
            "Epoch 100/100\n",
            "35/35 - 0s - loss: 0.2171 - department_output_loss: 0.1416 - attrition_output_loss: 0.0756 - department_output_accuracy: 0.9610 - attrition_output_accuracy: 0.9737 - 47ms/epoch - 1ms/step\n"
          ]
        },
        {
          "data": {
            "text/plain": [
              "<keras.src.callbacks.History at 0x24c21378d10>"
            ]
          },
          "execution_count": 14,
          "metadata": {},
          "output_type": "execute_result"
        }
      ],
      "source": [
        "# Train the model\n",
        "model.fit(X_train_scaled, {'department_output': y_train_encoded_Department, 'attrition_output': y_train_encoded_Attrition}, epochs=100, shuffle=True, verbose=2)"
      ]
    },
    {
      "cell_type": "code",
      "execution_count": 15,
      "metadata": {
        "colab": {
          "base_uri": "https://localhost:8080/"
        },
        "id": "VsMoaQlgGc3U",
        "outputId": "1bd4e601-e964-4abc-ad83-aeecf6b696be"
      },
      "outputs": [
        {
          "name": "stdout",
          "output_type": "stream",
          "text": [
            "12/12 - 0s - loss: 3.0724 - department_output_loss: 2.2202 - attrition_output_loss: 0.8522 - department_output_accuracy: 0.5109 - attrition_output_accuracy: 0.8071 - 337ms/epoch - 28ms/step\n",
            "[3.072410821914673, 2.220249652862549, 0.8521612286567688, 0.510869562625885, 0.8070651888847351]\n"
          ]
        }
      ],
      "source": [
        "# Evaluate the model with the testing data\n",
        "results = model.evaluate(X_test_scaled, {'department_output': y_test_encoded_Department, 'attrition_output': y_test_encoded_Attrition}, verbose=2)\n",
        "print(results)"
      ]
    },
    {
      "cell_type": "code",
      "execution_count": 16,
      "metadata": {
        "colab": {
          "base_uri": "https://localhost:8080/"
        },
        "id": "ZlCtlHi0Vt54",
        "outputId": "bc21ef3e-80c2-4b38-9c29-79515bc23dec"
      },
      "outputs": [
        {
          "name": "stdout",
          "output_type": "stream",
          "text": [
            "Department Accuracy: 0.510869562625885\n",
            "Attrition Accuracy: 0.8070651888847351\n"
          ]
        }
      ],
      "source": [
        "# Print the accuracy for both department and attrition\n",
        "print(f\"Department Accuracy: {results[3]}\")\n",
        "print(f\"Attrition Accuracy: {results[4]}\")\n"
      ]
    },
    {
      "cell_type": "markdown",
      "metadata": {
        "id": "eGSyfsZfWOQM"
      },
      "source": [
        "# Summary\n",
        "\n",
        "In the provided space below, briefly answer the following questions.\n",
        "\n",
        "1. Is accuracy the best metric to use on this data? Why or why not?\n",
        "\n",
        "2. What activation functions did you choose for your output layers, and why?\n",
        "\n",
        "3. Can you name a few ways that this model might be improved?"
      ]
    },
    {
      "cell_type": "markdown",
      "metadata": {
        "id": "pi9SLpFnWvbF"
      },
      "source": [
        "YOUR ANSWERS HERE\n",
        "\n",
        "1. I think **accuracy** can be used in this model to evaluate the model's performance. The model has an accuracy of 0.80 for the department prediction and 0.51 for the attrition prediction. This means that the model is able to predict the department of an employee with 83% accuracy and whether an employee will leave the company with 85% accuracy. This is a good result, but there is still room for improvement. The model can be further optimized by tuning the hyperparameters, increasing the number of epochs, or adding more layers to the neural network. Additionally, more data can be collected to improve the model's performance. Overall, the model is a good starting point for HR to predict employee attrition and department fit.\n",
        "\n",
        "This type of accuracy may not be very reliable if there were cost sensitive issues. For example, if the cost of false positives is high, then the model may not be very useful. In this case, the model may need to be further optimized to reduce the number of false positives. However, if the cost of false negatives is high, then the model may be useful as is. It is important to consider the cost of false positives and false negatives when evaluating the model's performance. While predicting attrition for any company is important, but cannot be compared with outcome of for example bad fraud detection or healthcare issues.\n",
        "\n",
        "2. I chose `relu` for shared layer because it is a good activation function for hidden layers in neural networks. It is able to handle the vanishing gradient problem, which can occur when training deep neural networks. I chose `sigmoid` for the attrition output layer because it is a good activation function for binary classification problems. It squashes the output to a range between 0 and 1, which is useful for predicting probabilities. I chose `softmax` for the department output layer because it is a good activation function for multi-class classification problems. It squashes the output to a range between 0 and 1, which is useful for predicting probabilities. Additionally, it ensures that the sum of the output values is equal to 1, which is useful for interpreting the results.\n",
        "\n",
        "3. A model might be improved by increasing the number of epochs, adding more layers to the neural network, or tuning the hyperparameters. Additionally, more data can be collected to improve the model's performance. Overall, the model is a good starting point for HR to predict employee attrition and department fit. Also by chossing different data column to understand which data column might be produce most accurate results. "
      ]
    },
    {
      "cell_type": "markdown",
      "metadata": {},
      "source": []
    }
  ],
  "metadata": {
    "colab": {
      "provenance": []
    },
    "kernelspec": {
      "display_name": "Python 3",
      "language": "python",
      "name": "python3"
    },
    "language_info": {
      "codemirror_mode": {
        "name": "ipython",
        "version": 3
      },
      "file_extension": ".py",
      "mimetype": "text/x-python",
      "name": "python",
      "nbconvert_exporter": "python",
      "pygments_lexer": "ipython3",
      "version": "3.11.5"
    },
    "vscode": {
      "interpreter": {
        "hash": "31f2aee4e71d21fbe5cf8b01ff0e069b9275f58929596ceb00d14d90e3e16cd6"
      }
    }
  },
  "nbformat": 4,
  "nbformat_minor": 0
}
